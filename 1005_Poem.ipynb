{
  "nbformat": 4,
  "nbformat_minor": 0,
  "metadata": {
    "colab": {
      "name": "1005_Poem.ipynb",
      "provenance": [],
      "collapsed_sections": [],
      "authorship_tag": "ABX9TyOwY8IHd/CWo2D0Ow+KSGyQ",
      "include_colab_link": true
    },
    "kernelspec": {
      "name": "python3",
      "display_name": "Python 3"
    }
  },
  "cells": [
    {
      "cell_type": "markdown",
      "metadata": {
        "id": "view-in-github",
        "colab_type": "text"
      },
      "source": [
        "<a href=\"https://colab.research.google.com/github/kurtyangch/Machine_Learning_from0930/blob/master/1005_Poem.ipynb\" target=\"_parent\"><img src=\"https://colab.research.google.com/assets/colab-badge.svg\" alt=\"Open In Colab\"/></a>"
      ]
    },
    {
      "cell_type": "code",
      "metadata": {
        "id": "xCT22yz8DwlU"
      },
      "source": [
        "# 詩詞自動分類, 擷取csv並存檔\n",
        "from urllib.request import urlretrieve\n",
        "url = \"https://github.com/Elwing-Chou/ml0930/raw/master/poem_train.csv\"\n",
        "urlretrieve(url, \"train.csv\")\n",
        "url = \"https://github.com/Elwing-Chou/ml0930/raw/master/poem_test.csv\"\n",
        "urlretrieve(url, \"test.csv\")"
      ],
      "execution_count": null,
      "outputs": []
    },
    {
      "cell_type": "code",
      "metadata": {
        "id": "OsAi6Em_D6pW"
      },
      "source": [
        "import pandas as pd\n",
        "train_df = pd.read_csv(\"train.csv\", encoding = \"utf-8\") # 原本就是表格 用read\n",
        "train_df"
      ],
      "execution_count": null,
      "outputs": []
    },
    {
      "cell_type": "code",
      "metadata": {
        "id": "OeCUkDDID9ay"
      },
      "source": [
        "import pandas as pd\n",
        "test_df = pd.read_csv(\"test.csv\", encoding = \"utf-8\")\n",
        "test_df # 測試資料 "
      ],
      "execution_count": null,
      "outputs": []
    },
    {
      "cell_type": "code",
      "metadata": {
        "id": "nE7iEHIKHb1p"
      },
      "source": [
        "# 處理資料\n",
        "# Series.replace({\"李白\": 0}) # 把作者那行 用數字取代\n",
        "# unique(拿出來的是list)/value_counts(數有幾個)\n",
        "# 作者轉換成0, 1 , 2 再進行分析\n",
        "writers = train_df[\"作者\"].unique() # 拿出一個list\n",
        "# result = {}\n",
        "# for i, w in enumerate(writers):    # enmuerate 取出來是tuple 座號加上內容\n",
        "#   result[w] = i\n",
        "# result\n",
        "\n",
        "# 上面的寫法可用下面一行代替\n",
        "trans = {w:i for i, w in enumerate(\"writer\")}\n",
        "trans_r = {i:w for i, w in enumerate(\"writer\")} # 準備一個反向字典 分析完轉換回來文字(\"作者\")\n",
        "\n",
        "# 進行代替\n",
        "y_train = train_df[\"作者\"].replace(trans)\n",
        "y_test = test_df[\"作者\"].replace(trans)"
      ],
      "execution_count": null,
      "outputs": []
    },
    {
      "cell_type": "code",
      "metadata": {
        "id": "UKOSHt0wN5qb"
      },
      "source": [
        "# 內容轉換 算機率--> 要先分詞\n",
        "# 標點符號, \\r, \\n要去掉(\\r\\n 換行)\n",
        "# 先作其中一首\n",
        "import jieba\n",
        "p = train_df[\"內容\"][0]\n",
        "\" \".join(jieba.cut(p))"
      ],
      "execution_count": null,
      "outputs": []
    },
    {
      "cell_type": "code",
      "metadata": {
        "id": "67dEzGClPi9d"
      },
      "source": [
        "# apply(函式名字) ()-->執行\n",
        "# b = int\n",
        "# b(5.5)\n",
        "def poemcut(p):\n",
        "  return \" \".join(jieba.cut(p))\n",
        "\n",
        "x_train = train_df[\"內容\"].apply(poemcut) # poemcut後面不用加() 把函式丟到apply()即可\n",
        "x_test = test_df[\"內容\"].apply(poemcut)"
      ],
      "execution_count": null,
      "outputs": []
    },
    {
      "cell_type": "code",
      "metadata": {
        "id": "LFipD8BkRdXl"
      },
      "source": [
        "# 數有幾個 CountVectorizer\n",
        "from sklearn.feature_extraction.text import CountVectorizer\n",
        "vec = CountVectorizer()\n",
        "# fit 算出欄位\n",
        "# fit_transform()的作用就是先訓練，找到轉換資料的規則，然後根據找到的規則轉換資料,tranform()的作用是根據找到的規則對資料進行轉換\n",
        "x_train_count = vec.fit_transform(x_train) # 找出分類並數出數量\n",
        "x_test_count = vec.transform(x_test) # 測試資料絕對不fit 因為已經固定好欄位,根據訓練出已經fit好的欄位去做預測, 訓練資料-->根據fit好的資料去transform\n",
        "x_train_count\n",
        "# 2731(詩的數量)x52294(詞彙數量) # sparse matrix 只儲存非0的欄位 否則資料量太大"
      ],
      "execution_count": null,
      "outputs": []
    },
    {
      "cell_type": "code",
      "metadata": {
        "id": "hbcXgHNnULiA"
      },
      "source": [
        "# vec.vocabulary_  #顯示分類的欄位 \n",
        "# vec.vocabulary_[\"\\r\\n\"] #確定標點符號, 換行 有沒有在裡面"
      ],
      "execution_count": null,
      "outputs": []
    },
    {
      "cell_type": "code",
      "metadata": {
        "id": "kA87blUlDGxM",
        "outputId": "0b617fe0-6bd4-481e-9e70-0a1594bbdd63",
        "colab": {
          "base_uri": "https://localhost:8080/",
          "height": 34
        }
      },
      "source": [
        "from sklearn.naive_bayes import MultinomialNB\n",
        "clf = MultinomialNB(alpha=0.1)\n",
        "clf.fit(x_train_count, y_train)"
      ],
      "execution_count": null,
      "outputs": [
        {
          "output_type": "execute_result",
          "data": {
            "text/plain": [
              "MultinomialNB(alpha=0.1, class_prior=None, fit_prior=True)"
            ]
          },
          "metadata": {
            "tags": []
          },
          "execution_count": 12
        }
      ]
    },
    {
      "cell_type": "code",
      "metadata": {
        "id": "GqVsjH1CF5gv",
        "outputId": "d3d5c604-72c8-4d92-f56f-c5b83a6a0ffb",
        "colab": {
          "base_uri": "https://localhost:8080/",
          "height": 34
        }
      },
      "source": [
        "from sklearn.metrics import accuracy_score\n",
        "pre = clf.predict(x_test_count)\n",
        "accuracy_score(pre, y_test)"
      ],
      "execution_count": null,
      "outputs": [
        {
          "output_type": "execute_result",
          "data": {
            "text/plain": [
              "0.8333333333333334"
            ]
          },
          "metadata": {
            "tags": []
          },
          "execution_count": 13
        }
      ]
    },
    {
      "cell_type": "code",
      "metadata": {
        "id": "O_GjqeFXCAuw"
      },
      "source": [
        "# 看錯在哪邊 confusion matrix混淆矩陣\n",
        "from sklearn.metrics import confusion_matrix\n",
        "mat = confusion_matrix(y_test, pre) # 參數: 正確答案 預測結果\n",
        "pd.DataFrame(mat,\n",
        "      index=[name + \"(原本)\" for name in writers],\n",
        "      columns=[name + \"(預測)\" for name in writers])"
      ],
      "execution_count": null,
      "outputs": []
    },
    {
      "cell_type": "code",
      "metadata": {
        "id": "WqJHye2EJbX2"
      },
      "source": [
        "p = input(\"輸入一首詩:\")\n",
        "x_predict = vec.transform([poemcut(p)])\n",
        "proba = clf.predict_proba(x_predict)[0] # 可能性機率\n",
        "for w, p in zip(writers, proba): # zip 兩個list把對應的位置變成tuple\n",
        "    print(w, \":\", p)"
      ],
      "execution_count": null,
      "outputs": []
    }
  ]
}