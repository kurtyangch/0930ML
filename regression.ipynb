{
  "nbformat": 4,
  "nbformat_minor": 0,
  "metadata": {
    "colab": {
      "name": "regression.ipynb",
      "provenance": [],
      "authorship_tag": "ABX9TyM9vZ/BOR6Pocs8ZN3Kxm8R",
      "include_colab_link": true
    },
    "kernelspec": {
      "name": "python3",
      "display_name": "Python 3"
    }
  },
  "cells": [
    {
      "cell_type": "markdown",
      "metadata": {
        "id": "view-in-github",
        "colab_type": "text"
      },
      "source": [
        "<a href=\"https://colab.research.google.com/github/kurtyangch/0930ML/blob/master/regression.ipynb\" target=\"_parent\"><img src=\"https://colab.research.google.com/assets/colab-badge.svg\" alt=\"Open In Colab\"/></a>"
      ]
    },
    {
      "cell_type": "code",
      "metadata": {
        "id": "bcX9YVjde-DK",
        "outputId": "5a0fbd6d-192d-4488-ca97-da15048ccc1d",
        "colab": {
          "base_uri": "https://localhost:8080/",
          "height": 413
        }
      },
      "source": [
        "import pandas as pd\n",
        "from sklearn.datasets import load_boston \n",
        "boston=load_boston()\n",
        "# 函式庫modin處理巨量資料\n",
        "# 拿到資料先處理成表格\n",
        "df=pd.DataFrame(boston[\"data\"], columns=boston[\"feature_names\"])\n",
        "df[\"target\"] = boston[\"target\"]\n",
        "df"
      ],
      "execution_count": null,
      "outputs": [
        {
          "output_type": "execute_result",
          "data": {
            "text/html": [
              "<div>\n",
              "<style scoped>\n",
              "    .dataframe tbody tr th:only-of-type {\n",
              "        vertical-align: middle;\n",
              "    }\n",
              "\n",
              "    .dataframe tbody tr th {\n",
              "        vertical-align: top;\n",
              "    }\n",
              "\n",
              "    .dataframe thead th {\n",
              "        text-align: right;\n",
              "    }\n",
              "</style>\n",
              "<table border=\"1\" class=\"dataframe\">\n",
              "  <thead>\n",
              "    <tr style=\"text-align: right;\">\n",
              "      <th></th>\n",
              "      <th>CRIM</th>\n",
              "      <th>ZN</th>\n",
              "      <th>INDUS</th>\n",
              "      <th>CHAS</th>\n",
              "      <th>NOX</th>\n",
              "      <th>RM</th>\n",
              "      <th>AGE</th>\n",
              "      <th>DIS</th>\n",
              "      <th>RAD</th>\n",
              "      <th>TAX</th>\n",
              "      <th>PTRATIO</th>\n",
              "      <th>B</th>\n",
              "      <th>LSTAT</th>\n",
              "      <th>target</th>\n",
              "    </tr>\n",
              "  </thead>\n",
              "  <tbody>\n",
              "    <tr>\n",
              "      <th>0</th>\n",
              "      <td>0.00632</td>\n",
              "      <td>18.0</td>\n",
              "      <td>2.31</td>\n",
              "      <td>0.0</td>\n",
              "      <td>0.538</td>\n",
              "      <td>6.575</td>\n",
              "      <td>65.2</td>\n",
              "      <td>4.0900</td>\n",
              "      <td>1.0</td>\n",
              "      <td>296.0</td>\n",
              "      <td>15.3</td>\n",
              "      <td>396.90</td>\n",
              "      <td>4.98</td>\n",
              "      <td>24.0</td>\n",
              "    </tr>\n",
              "    <tr>\n",
              "      <th>1</th>\n",
              "      <td>0.02731</td>\n",
              "      <td>0.0</td>\n",
              "      <td>7.07</td>\n",
              "      <td>0.0</td>\n",
              "      <td>0.469</td>\n",
              "      <td>6.421</td>\n",
              "      <td>78.9</td>\n",
              "      <td>4.9671</td>\n",
              "      <td>2.0</td>\n",
              "      <td>242.0</td>\n",
              "      <td>17.8</td>\n",
              "      <td>396.90</td>\n",
              "      <td>9.14</td>\n",
              "      <td>21.6</td>\n",
              "    </tr>\n",
              "    <tr>\n",
              "      <th>2</th>\n",
              "      <td>0.02729</td>\n",
              "      <td>0.0</td>\n",
              "      <td>7.07</td>\n",
              "      <td>0.0</td>\n",
              "      <td>0.469</td>\n",
              "      <td>7.185</td>\n",
              "      <td>61.1</td>\n",
              "      <td>4.9671</td>\n",
              "      <td>2.0</td>\n",
              "      <td>242.0</td>\n",
              "      <td>17.8</td>\n",
              "      <td>392.83</td>\n",
              "      <td>4.03</td>\n",
              "      <td>34.7</td>\n",
              "    </tr>\n",
              "    <tr>\n",
              "      <th>3</th>\n",
              "      <td>0.03237</td>\n",
              "      <td>0.0</td>\n",
              "      <td>2.18</td>\n",
              "      <td>0.0</td>\n",
              "      <td>0.458</td>\n",
              "      <td>6.998</td>\n",
              "      <td>45.8</td>\n",
              "      <td>6.0622</td>\n",
              "      <td>3.0</td>\n",
              "      <td>222.0</td>\n",
              "      <td>18.7</td>\n",
              "      <td>394.63</td>\n",
              "      <td>2.94</td>\n",
              "      <td>33.4</td>\n",
              "    </tr>\n",
              "    <tr>\n",
              "      <th>4</th>\n",
              "      <td>0.06905</td>\n",
              "      <td>0.0</td>\n",
              "      <td>2.18</td>\n",
              "      <td>0.0</td>\n",
              "      <td>0.458</td>\n",
              "      <td>7.147</td>\n",
              "      <td>54.2</td>\n",
              "      <td>6.0622</td>\n",
              "      <td>3.0</td>\n",
              "      <td>222.0</td>\n",
              "      <td>18.7</td>\n",
              "      <td>396.90</td>\n",
              "      <td>5.33</td>\n",
              "      <td>36.2</td>\n",
              "    </tr>\n",
              "    <tr>\n",
              "      <th>...</th>\n",
              "      <td>...</td>\n",
              "      <td>...</td>\n",
              "      <td>...</td>\n",
              "      <td>...</td>\n",
              "      <td>...</td>\n",
              "      <td>...</td>\n",
              "      <td>...</td>\n",
              "      <td>...</td>\n",
              "      <td>...</td>\n",
              "      <td>...</td>\n",
              "      <td>...</td>\n",
              "      <td>...</td>\n",
              "      <td>...</td>\n",
              "      <td>...</td>\n",
              "    </tr>\n",
              "    <tr>\n",
              "      <th>501</th>\n",
              "      <td>0.06263</td>\n",
              "      <td>0.0</td>\n",
              "      <td>11.93</td>\n",
              "      <td>0.0</td>\n",
              "      <td>0.573</td>\n",
              "      <td>6.593</td>\n",
              "      <td>69.1</td>\n",
              "      <td>2.4786</td>\n",
              "      <td>1.0</td>\n",
              "      <td>273.0</td>\n",
              "      <td>21.0</td>\n",
              "      <td>391.99</td>\n",
              "      <td>9.67</td>\n",
              "      <td>22.4</td>\n",
              "    </tr>\n",
              "    <tr>\n",
              "      <th>502</th>\n",
              "      <td>0.04527</td>\n",
              "      <td>0.0</td>\n",
              "      <td>11.93</td>\n",
              "      <td>0.0</td>\n",
              "      <td>0.573</td>\n",
              "      <td>6.120</td>\n",
              "      <td>76.7</td>\n",
              "      <td>2.2875</td>\n",
              "      <td>1.0</td>\n",
              "      <td>273.0</td>\n",
              "      <td>21.0</td>\n",
              "      <td>396.90</td>\n",
              "      <td>9.08</td>\n",
              "      <td>20.6</td>\n",
              "    </tr>\n",
              "    <tr>\n",
              "      <th>503</th>\n",
              "      <td>0.06076</td>\n",
              "      <td>0.0</td>\n",
              "      <td>11.93</td>\n",
              "      <td>0.0</td>\n",
              "      <td>0.573</td>\n",
              "      <td>6.976</td>\n",
              "      <td>91.0</td>\n",
              "      <td>2.1675</td>\n",
              "      <td>1.0</td>\n",
              "      <td>273.0</td>\n",
              "      <td>21.0</td>\n",
              "      <td>396.90</td>\n",
              "      <td>5.64</td>\n",
              "      <td>23.9</td>\n",
              "    </tr>\n",
              "    <tr>\n",
              "      <th>504</th>\n",
              "      <td>0.10959</td>\n",
              "      <td>0.0</td>\n",
              "      <td>11.93</td>\n",
              "      <td>0.0</td>\n",
              "      <td>0.573</td>\n",
              "      <td>6.794</td>\n",
              "      <td>89.3</td>\n",
              "      <td>2.3889</td>\n",
              "      <td>1.0</td>\n",
              "      <td>273.0</td>\n",
              "      <td>21.0</td>\n",
              "      <td>393.45</td>\n",
              "      <td>6.48</td>\n",
              "      <td>22.0</td>\n",
              "    </tr>\n",
              "    <tr>\n",
              "      <th>505</th>\n",
              "      <td>0.04741</td>\n",
              "      <td>0.0</td>\n",
              "      <td>11.93</td>\n",
              "      <td>0.0</td>\n",
              "      <td>0.573</td>\n",
              "      <td>6.030</td>\n",
              "      <td>80.8</td>\n",
              "      <td>2.5050</td>\n",
              "      <td>1.0</td>\n",
              "      <td>273.0</td>\n",
              "      <td>21.0</td>\n",
              "      <td>396.90</td>\n",
              "      <td>7.88</td>\n",
              "      <td>11.9</td>\n",
              "    </tr>\n",
              "  </tbody>\n",
              "</table>\n",
              "<p>506 rows × 14 columns</p>\n",
              "</div>"
            ],
            "text/plain": [
              "        CRIM    ZN  INDUS  CHAS    NOX  ...    TAX  PTRATIO       B  LSTAT  target\n",
              "0    0.00632  18.0   2.31   0.0  0.538  ...  296.0     15.3  396.90   4.98    24.0\n",
              "1    0.02731   0.0   7.07   0.0  0.469  ...  242.0     17.8  396.90   9.14    21.6\n",
              "2    0.02729   0.0   7.07   0.0  0.469  ...  242.0     17.8  392.83   4.03    34.7\n",
              "3    0.03237   0.0   2.18   0.0  0.458  ...  222.0     18.7  394.63   2.94    33.4\n",
              "4    0.06905   0.0   2.18   0.0  0.458  ...  222.0     18.7  396.90   5.33    36.2\n",
              "..       ...   ...    ...   ...    ...  ...    ...      ...     ...    ...     ...\n",
              "501  0.06263   0.0  11.93   0.0  0.573  ...  273.0     21.0  391.99   9.67    22.4\n",
              "502  0.04527   0.0  11.93   0.0  0.573  ...  273.0     21.0  396.90   9.08    20.6\n",
              "503  0.06076   0.0  11.93   0.0  0.573  ...  273.0     21.0  396.90   5.64    23.9\n",
              "504  0.10959   0.0  11.93   0.0  0.573  ...  273.0     21.0  393.45   6.48    22.0\n",
              "505  0.04741   0.0  11.93   0.0  0.573  ...  273.0     21.0  396.90   7.88    11.9\n",
              "\n",
              "[506 rows x 14 columns]"
            ]
          },
          "metadata": {
            "tags": []
          },
          "execution_count": 15
        }
      ]
    },
    {
      "cell_type": "code",
      "metadata": {
        "id": "SGwxLHnNi1Yk"
      },
      "source": [
        "# 預處理: pandas/DataFrame\n",
        "# 機器學習: numpy/np.array\n",
        "import numpy as np\n",
        "from sklearn.model_selection import train_test_split\n",
        "x, y =df.drop([\"target\"], axis=1), df[\"target\"]\n",
        "x, y = np.array(x), np.array(y)\n",
        "x_treain, x_test,y_train, y_test = train_test_split(x, y, test_size=0.1)"
      ],
      "execution_count": null,
      "outputs": []
    },
    {
      "cell_type": "code",
      "metadata": {
        "id": "8jDc6E5OmV8D",
        "outputId": "d598e47c-53e9-45ec-9d53-6633330516d6",
        "colab": {
          "base_uri": "https://localhost:8080/",
          "height": 120
        }
      },
      "source": [
        "from sklearn.tree import DecisionTreeRegressor\n",
        "reg= DecisionTreeRegressor(max_depth=5)\n",
        "reg.fit(x_treain, y_train)"
      ],
      "execution_count": null,
      "outputs": [
        {
          "output_type": "execute_result",
          "data": {
            "text/plain": [
              "DecisionTreeRegressor(ccp_alpha=0.0, criterion='mse', max_depth=5,\n",
              "                      max_features=None, max_leaf_nodes=None,\n",
              "                      min_impurity_decrease=0.0, min_impurity_split=None,\n",
              "                      min_samples_leaf=1, min_samples_split=2,\n",
              "                      min_weight_fraction_leaf=0.0, presort='deprecated',\n",
              "                      random_state=None, splitter='best')"
            ]
          },
          "metadata": {
            "tags": []
          },
          "execution_count": 17
        }
      ]
    },
    {
      "cell_type": "code",
      "metadata": {
        "id": "LuTmi1rLq-G2",
        "outputId": "955d4db0-f8e8-4480-b77c-1f1ed00489e2",
        "colab": {
          "base_uri": "https://localhost:8080/",
          "height": 495
        }
      },
      "source": [
        "import graphviz\n",
        "from sklearn.tree import export_graphviz\n",
        "g = export_graphviz(reg, \n",
        "           feature_names=boston[\"feature_names\"],\n",
        "           filled=True, max_depth=2)\n",
        "graphviz.Source(g)"
      ],
      "execution_count": null,
      "outputs": [
        {
          "output_type": "execute_result",
          "data": {
            "text/plain": [
              "<graphviz.files.Source at 0x7f08b79a9048>"
            ],
            "image/svg+xml": "<?xml version=\"1.0\" encoding=\"UTF-8\" standalone=\"no\"?>\n<!DOCTYPE svg PUBLIC \"-//W3C//DTD SVG 1.1//EN\"\n \"http://www.w3.org/Graphics/SVG/1.1/DTD/svg11.dtd\">\n<!-- Generated by graphviz version 2.40.1 (20161225.0304)\n -->\n<!-- Title: Tree Pages: 1 -->\n<svg width=\"574pt\" height=\"356pt\"\n viewBox=\"0.00 0.00 574.00 356.00\" xmlns=\"http://www.w3.org/2000/svg\" xmlns:xlink=\"http://www.w3.org/1999/xlink\">\n<g id=\"graph0\" class=\"graph\" transform=\"scale(1 1) rotate(0) translate(4 352)\">\n<title>Tree</title>\n<polygon fill=\"#ffffff\" stroke=\"transparent\" points=\"-4,4 -4,-352 570,-352 570,4 -4,4\"/>\n<!-- 0 -->\n<g id=\"node1\" class=\"node\">\n<title>0</title>\n<polygon fill=\"#f6d6be\" stroke=\"#000000\" points=\"339,-348 221,-348 221,-280 339,-280 339,-348\"/>\n<text text-anchor=\"middle\" x=\"280\" y=\"-332.8\" font-family=\"Times,serif\" font-size=\"14.00\" fill=\"#000000\">LSTAT &lt;= 9.725</text>\n<text text-anchor=\"middle\" x=\"280\" y=\"-317.8\" font-family=\"Times,serif\" font-size=\"14.00\" fill=\"#000000\">mse = 82.522</text>\n<text text-anchor=\"middle\" x=\"280\" y=\"-302.8\" font-family=\"Times,serif\" font-size=\"14.00\" fill=\"#000000\">samples = 455</text>\n<text text-anchor=\"middle\" x=\"280\" y=\"-287.8\" font-family=\"Times,serif\" font-size=\"14.00\" fill=\"#000000\">value = 22.499</text>\n</g>\n<!-- 1 -->\n<g id=\"node2\" class=\"node\">\n<title>1</title>\n<polygon fill=\"#f2c09c\" stroke=\"#000000\" points=\"266,-244 162,-244 162,-176 266,-176 266,-244\"/>\n<text text-anchor=\"middle\" x=\"214\" y=\"-228.8\" font-family=\"Times,serif\" font-size=\"14.00\" fill=\"#000000\">RM &lt;= 6.941</text>\n<text text-anchor=\"middle\" x=\"214\" y=\"-213.8\" font-family=\"Times,serif\" font-size=\"14.00\" fill=\"#000000\">mse = 74.924</text>\n<text text-anchor=\"middle\" x=\"214\" y=\"-198.8\" font-family=\"Times,serif\" font-size=\"14.00\" fill=\"#000000\">samples = 193</text>\n<text text-anchor=\"middle\" x=\"214\" y=\"-183.8\" font-family=\"Times,serif\" font-size=\"14.00\" fill=\"#000000\">value = 29.539</text>\n</g>\n<!-- 0&#45;&gt;1 -->\n<g id=\"edge1\" class=\"edge\">\n<title>0&#45;&gt;1</title>\n<path fill=\"none\" stroke=\"#000000\" d=\"M258.3891,-279.9465C252.8622,-271.2373 246.8494,-261.7626 241.0854,-252.6801\"/>\n<polygon fill=\"#000000\" stroke=\"#000000\" points=\"243.9729,-250.6979 235.6594,-244.13 238.0626,-254.4487 243.9729,-250.6979\"/>\n<text text-anchor=\"middle\" x=\"230.2058\" y=\"-264.8279\" font-family=\"Times,serif\" font-size=\"14.00\" fill=\"#000000\">True</text>\n</g>\n<!-- 24 -->\n<g id=\"node9\" class=\"node\">\n<title>24</title>\n<polygon fill=\"#fae5d7\" stroke=\"#000000\" points=\"409.5,-244 284.5,-244 284.5,-176 409.5,-176 409.5,-244\"/>\n<text text-anchor=\"middle\" x=\"347\" y=\"-228.8\" font-family=\"Times,serif\" font-size=\"14.00\" fill=\"#000000\">LSTAT &lt;= 14.915</text>\n<text text-anchor=\"middle\" x=\"347\" y=\"-213.8\" font-family=\"Times,serif\" font-size=\"14.00\" fill=\"#000000\">mse = 24.724</text>\n<text text-anchor=\"middle\" x=\"347\" y=\"-198.8\" font-family=\"Times,serif\" font-size=\"14.00\" fill=\"#000000\">samples = 262</text>\n<text text-anchor=\"middle\" x=\"347\" y=\"-183.8\" font-family=\"Times,serif\" font-size=\"14.00\" fill=\"#000000\">value = 17.314</text>\n</g>\n<!-- 0&#45;&gt;24 -->\n<g id=\"edge8\" class=\"edge\">\n<title>0&#45;&gt;24</title>\n<path fill=\"none\" stroke=\"#000000\" d=\"M301.9383,-279.9465C307.549,-271.2373 313.6529,-261.7626 319.5042,-252.6801\"/>\n<polygon fill=\"#000000\" stroke=\"#000000\" points=\"322.5389,-254.4321 325.0124,-244.13 316.6543,-250.641 322.5389,-254.4321\"/>\n<text text-anchor=\"middle\" x=\"330.2994\" y=\"-264.8646\" font-family=\"Times,serif\" font-size=\"14.00\" fill=\"#000000\">False</text>\n</g>\n<!-- 2 -->\n<g id=\"node3\" class=\"node\">\n<title>2</title>\n<polygon fill=\"#f5ccaf\" stroke=\"#000000\" points=\"147,-140 43,-140 43,-72 147,-72 147,-140\"/>\n<text text-anchor=\"middle\" x=\"95\" y=\"-124.8\" font-family=\"Times,serif\" font-size=\"14.00\" fill=\"#000000\">DIS &lt;= 1.485</text>\n<text text-anchor=\"middle\" x=\"95\" y=\"-109.8\" font-family=\"Times,serif\" font-size=\"14.00\" fill=\"#000000\">mse = 32.491</text>\n<text text-anchor=\"middle\" x=\"95\" y=\"-94.8\" font-family=\"Times,serif\" font-size=\"14.00\" fill=\"#000000\">samples = 130</text>\n<text text-anchor=\"middle\" x=\"95\" y=\"-79.8\" font-family=\"Times,serif\" font-size=\"14.00\" fill=\"#000000\">value = 25.479</text>\n</g>\n<!-- 1&#45;&gt;2 -->\n<g id=\"edge2\" class=\"edge\">\n<title>1&#45;&gt;2</title>\n<path fill=\"none\" stroke=\"#000000\" d=\"M175.0349,-175.9465C164.3505,-166.6088 152.6591,-156.3911 141.5934,-146.7203\"/>\n<polygon fill=\"#000000\" stroke=\"#000000\" points=\"143.8855,-144.0752 134.0526,-140.13 139.2791,-149.346 143.8855,-144.0752\"/>\n</g>\n<!-- 11 -->\n<g id=\"node6\" class=\"node\">\n<title>11</title>\n<polygon fill=\"#eda673\" stroke=\"#000000\" points=\"269,-140 165,-140 165,-72 269,-72 269,-140\"/>\n<text text-anchor=\"middle\" x=\"217\" y=\"-124.8\" font-family=\"Times,serif\" font-size=\"14.00\" fill=\"#000000\">RM &lt;= 7.437</text>\n<text text-anchor=\"middle\" x=\"217\" y=\"-109.8\" font-family=\"Times,serif\" font-size=\"14.00\" fill=\"#000000\">mse = 58.302</text>\n<text text-anchor=\"middle\" x=\"217\" y=\"-94.8\" font-family=\"Times,serif\" font-size=\"14.00\" fill=\"#000000\">samples = 63</text>\n<text text-anchor=\"middle\" x=\"217\" y=\"-79.8\" font-family=\"Times,serif\" font-size=\"14.00\" fill=\"#000000\">value = 37.916</text>\n</g>\n<!-- 1&#45;&gt;11 -->\n<g id=\"edge5\" class=\"edge\">\n<title>1&#45;&gt;11</title>\n<path fill=\"none\" stroke=\"#000000\" d=\"M214.9823,-175.9465C215.218,-167.776 215.4731,-158.9318 215.7201,-150.3697\"/>\n<polygon fill=\"#000000\" stroke=\"#000000\" points=\"219.2256,-150.2268 216.0155,-140.13 212.2285,-150.0249 219.2256,-150.2268\"/>\n</g>\n<!-- 3 -->\n<g id=\"node4\" class=\"node\">\n<title>3</title>\n<polygon fill=\"#c0c0c0\" stroke=\"#000000\" points=\"54,-36 0,-36 0,0 54,0 54,-36\"/>\n<text text-anchor=\"middle\" x=\"27\" y=\"-14.3\" font-family=\"Times,serif\" font-size=\"14.00\" fill=\"#000000\">(...)</text>\n</g>\n<!-- 2&#45;&gt;3 -->\n<g id=\"edge3\" class=\"edge\">\n<title>2&#45;&gt;3</title>\n<path fill=\"none\" stroke=\"#000000\" d=\"M68.7094,-71.9769C61.5723,-62.7406 53.9567,-52.8851 47.2125,-44.1573\"/>\n<polygon fill=\"#000000\" stroke=\"#000000\" points=\"49.9414,-41.9647 41.0574,-36.192 44.4024,-46.2449 49.9414,-41.9647\"/>\n</g>\n<!-- 4 -->\n<g id=\"node5\" class=\"node\">\n<title>4</title>\n<polygon fill=\"#c0c0c0\" stroke=\"#000000\" points=\"126,-36 72,-36 72,0 126,0 126,-36\"/>\n<text text-anchor=\"middle\" x=\"99\" y=\"-14.3\" font-family=\"Times,serif\" font-size=\"14.00\" fill=\"#000000\">(...)</text>\n</g>\n<!-- 2&#45;&gt;4 -->\n<g id=\"edge4\" class=\"edge\">\n<title>2&#45;&gt;4</title>\n<path fill=\"none\" stroke=\"#000000\" d=\"M96.5465,-71.9769C96.9317,-63.5023 97.3406,-54.5065 97.7119,-46.3388\"/>\n<polygon fill=\"#000000\" stroke=\"#000000\" points=\"101.2153,-46.3406 98.1731,-36.192 94.2225,-46.0227 101.2153,-46.3406\"/>\n</g>\n<!-- 12 -->\n<g id=\"node7\" class=\"node\">\n<title>12</title>\n<polygon fill=\"#c0c0c0\" stroke=\"#000000\" points=\"203,-36 149,-36 149,0 203,0 203,-36\"/>\n<text text-anchor=\"middle\" x=\"176\" y=\"-14.3\" font-family=\"Times,serif\" font-size=\"14.00\" fill=\"#000000\">(...)</text>\n</g>\n<!-- 11&#45;&gt;12 -->\n<g id=\"edge6\" class=\"edge\">\n<title>11&#45;&gt;12</title>\n<path fill=\"none\" stroke=\"#000000\" d=\"M201.1483,-71.9769C197.0669,-63.2167 192.7259,-53.8995 188.8198,-45.5157\"/>\n<polygon fill=\"#000000\" stroke=\"#000000\" points=\"191.8716,-43.7783 184.4758,-36.192 185.5265,-46.7346 191.8716,-43.7783\"/>\n</g>\n<!-- 19 -->\n<g id=\"node8\" class=\"node\">\n<title>19</title>\n<polygon fill=\"#c0c0c0\" stroke=\"#000000\" points=\"275,-36 221,-36 221,0 275,0 275,-36\"/>\n<text text-anchor=\"middle\" x=\"248\" y=\"-14.3\" font-family=\"Times,serif\" font-size=\"14.00\" fill=\"#000000\">(...)</text>\n</g>\n<!-- 11&#45;&gt;19 -->\n<g id=\"edge7\" class=\"edge\">\n<title>11&#45;&gt;19</title>\n<path fill=\"none\" stroke=\"#000000\" d=\"M228.9854,-71.9769C232.0379,-63.3119 235.2823,-54.102 238.2105,-45.7894\"/>\n<polygon fill=\"#000000\" stroke=\"#000000\" points=\"241.57,-46.7868 241.5915,-36.192 234.9677,-44.4609 241.57,-46.7868\"/>\n</g>\n<!-- 25 -->\n<g id=\"node10\" class=\"node\">\n<title>25</title>\n<polygon fill=\"#f8dbc6\" stroke=\"#000000\" points=\"396,-140 292,-140 292,-72 396,-72 396,-140\"/>\n<text text-anchor=\"middle\" x=\"344\" y=\"-124.8\" font-family=\"Times,serif\" font-size=\"14.00\" fill=\"#000000\">RM &lt;= 6.797</text>\n<text text-anchor=\"middle\" x=\"344\" y=\"-109.8\" font-family=\"Times,serif\" font-size=\"14.00\" fill=\"#000000\">mse = 9.939</text>\n<text text-anchor=\"middle\" x=\"344\" y=\"-94.8\" font-family=\"Times,serif\" font-size=\"14.00\" fill=\"#000000\">samples = 118</text>\n<text text-anchor=\"middle\" x=\"344\" y=\"-79.8\" font-family=\"Times,serif\" font-size=\"14.00\" fill=\"#000000\">value = 20.791</text>\n</g>\n<!-- 24&#45;&gt;25 -->\n<g id=\"edge9\" class=\"edge\">\n<title>24&#45;&gt;25</title>\n<path fill=\"none\" stroke=\"#000000\" d=\"M346.0177,-175.9465C345.782,-167.776 345.5269,-158.9318 345.2799,-150.3697\"/>\n<polygon fill=\"#000000\" stroke=\"#000000\" points=\"348.7715,-150.0249 344.9845,-140.13 341.7744,-150.2268 348.7715,-150.0249\"/>\n</g>\n<!-- 36 -->\n<g id=\"node13\" class=\"node\">\n<title>36</title>\n<polygon fill=\"#fceee5\" stroke=\"#000000\" points=\"525.5,-140 414.5,-140 414.5,-72 525.5,-72 525.5,-140\"/>\n<text text-anchor=\"middle\" x=\"470\" y=\"-124.8\" font-family=\"Times,serif\" font-size=\"14.00\" fill=\"#000000\">CRIM &lt;= 5.769</text>\n<text text-anchor=\"middle\" x=\"470\" y=\"-109.8\" font-family=\"Times,serif\" font-size=\"14.00\" fill=\"#000000\">mse = 18.815</text>\n<text text-anchor=\"middle\" x=\"470\" y=\"-94.8\" font-family=\"Times,serif\" font-size=\"14.00\" fill=\"#000000\">samples = 144</text>\n<text text-anchor=\"middle\" x=\"470\" y=\"-79.8\" font-family=\"Times,serif\" font-size=\"14.00\" fill=\"#000000\">value = 14.465</text>\n</g>\n<!-- 24&#45;&gt;36 -->\n<g id=\"edge12\" class=\"edge\">\n<title>24&#45;&gt;36</title>\n<path fill=\"none\" stroke=\"#000000\" d=\"M387.2748,-175.9465C398.3184,-166.6088 410.4028,-156.3911 421.8404,-146.7203\"/>\n<polygon fill=\"#000000\" stroke=\"#000000\" points=\"424.2583,-149.2594 429.6347,-140.13 419.7386,-143.914 424.2583,-149.2594\"/>\n</g>\n<!-- 26 -->\n<g id=\"node11\" class=\"node\">\n<title>26</title>\n<polygon fill=\"#c0c0c0\" stroke=\"#000000\" points=\"349,-36 295,-36 295,0 349,0 349,-36\"/>\n<text text-anchor=\"middle\" x=\"322\" y=\"-14.3\" font-family=\"Times,serif\" font-size=\"14.00\" fill=\"#000000\">(...)</text>\n</g>\n<!-- 25&#45;&gt;26 -->\n<g id=\"edge10\" class=\"edge\">\n<title>25&#45;&gt;26</title>\n<path fill=\"none\" stroke=\"#000000\" d=\"M335.4942,-71.9769C333.3518,-63.4071 331.0761,-54.3043 329.0159,-46.0638\"/>\n<polygon fill=\"#000000\" stroke=\"#000000\" points=\"332.3689,-45.0445 326.548,-36.192 325.5779,-46.7423 332.3689,-45.0445\"/>\n</g>\n<!-- 31 -->\n<g id=\"node12\" class=\"node\">\n<title>31</title>\n<polygon fill=\"#c0c0c0\" stroke=\"#000000\" points=\"421,-36 367,-36 367,0 421,0 421,-36\"/>\n<text text-anchor=\"middle\" x=\"394\" y=\"-14.3\" font-family=\"Times,serif\" font-size=\"14.00\" fill=\"#000000\">(...)</text>\n</g>\n<!-- 25&#45;&gt;31 -->\n<g id=\"edge11\" class=\"edge\">\n<title>25&#45;&gt;31</title>\n<path fill=\"none\" stroke=\"#000000\" d=\"M363.3313,-71.9769C368.4169,-63.0262 373.8329,-53.4941 378.676,-44.9703\"/>\n<polygon fill=\"#000000\" stroke=\"#000000\" points=\"381.7666,-46.6156 383.6637,-36.192 375.6804,-43.1575 381.7666,-46.6156\"/>\n</g>\n<!-- 37 -->\n<g id=\"node14\" class=\"node\">\n<title>37</title>\n<polygon fill=\"#c0c0c0\" stroke=\"#000000\" points=\"494,-36 440,-36 440,0 494,0 494,-36\"/>\n<text text-anchor=\"middle\" x=\"467\" y=\"-14.3\" font-family=\"Times,serif\" font-size=\"14.00\" fill=\"#000000\">(...)</text>\n</g>\n<!-- 36&#45;&gt;37 -->\n<g id=\"edge13\" class=\"edge\">\n<title>36&#45;&gt;37</title>\n<path fill=\"none\" stroke=\"#000000\" d=\"M468.8401,-71.9769C468.5512,-63.5023 468.2445,-54.5065 467.9661,-46.3388\"/>\n<polygon fill=\"#000000\" stroke=\"#000000\" points=\"471.459,-46.0669 467.6202,-36.192 464.463,-46.3054 471.459,-46.0669\"/>\n</g>\n<!-- 44 -->\n<g id=\"node15\" class=\"node\">\n<title>44</title>\n<polygon fill=\"#c0c0c0\" stroke=\"#000000\" points=\"566,-36 512,-36 512,0 566,0 566,-36\"/>\n<text text-anchor=\"middle\" x=\"539\" y=\"-14.3\" font-family=\"Times,serif\" font-size=\"14.00\" fill=\"#000000\">(...)</text>\n</g>\n<!-- 36&#45;&gt;44 -->\n<g id=\"edge14\" class=\"edge\">\n<title>36&#45;&gt;44</title>\n<path fill=\"none\" stroke=\"#000000\" d=\"M496.6772,-71.9769C503.9193,-62.7406 511.6469,-52.8851 518.4903,-44.1573\"/>\n<polygon fill=\"#000000\" stroke=\"#000000\" points=\"521.3198,-46.221 524.7359,-36.192 515.8112,-41.9017 521.3198,-46.221\"/>\n</g>\n</g>\n</svg>\n"
          },
          "metadata": {
            "tags": []
          },
          "execution_count": 20
        }
      ]
    },
    {
      "cell_type": "code",
      "metadata": {
        "id": "ovzPsD3CszHX",
        "outputId": "d9123f9b-0fab-46a8-e9f7-4d10d4204931",
        "colab": {
          "base_uri": "https://localhost:8080/",
          "height": 34
        }
      },
      "source": [
        "from sklearn.metrics import r2_score\n",
        "pre = reg.predict(x_test)\n",
        "r2_score(y_test, pre)"
      ],
      "execution_count": null,
      "outputs": [
        {
          "output_type": "execute_result",
          "data": {
            "text/plain": [
              "0.8613030593281147"
            ]
          },
          "metadata": {
            "tags": []
          },
          "execution_count": 19
        }
      ]
    },
    {
      "cell_type": "code",
      "metadata": {
        "id": "p2Izuxjm8fSM"
      },
      "source": [
        ""
      ],
      "execution_count": null,
      "outputs": []
    }
  ]
}