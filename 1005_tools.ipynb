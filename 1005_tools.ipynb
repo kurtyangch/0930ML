{
  "nbformat": 4,
  "nbformat_minor": 0,
  "metadata": {
    "colab": {
      "name": "1005_tools.ipynb",
      "provenance": [],
      "toc_visible": true,
      "authorship_tag": "ABX9TyOADCgDcFe03PKNxqM93HUw",
      "include_colab_link": true
    },
    "kernelspec": {
      "name": "python3",
      "display_name": "Python 3"
    }
  },
  "cells": [
    {
      "cell_type": "markdown",
      "metadata": {
        "id": "view-in-github",
        "colab_type": "text"
      },
      "source": [
        "<a href=\"https://colab.research.google.com/github/kurtyangch/Machine_Learning_from0930/blob/master/1005_tools.ipynb\" target=\"_parent\"><img src=\"https://colab.research.google.com/assets/colab-badge.svg\" alt=\"Open In Colab\"/></a>"
      ]
    },
    {
      "cell_type": "code",
      "metadata": {
        "id": "606-qRhkqS_b"
      },
      "source": [
        "! pip install opencc-python-reimplemented"
      ],
      "execution_count": null,
      "outputs": []
    },
    {
      "cell_type": "code",
      "metadata": {
        "id": "yKglo1PjqlX5"
      },
      "source": [
        "# with open(\"a.txt\", \"r\", encoding=\"utf-8\") as f:\n",
        "#   sim = f.read()\n",
        "# from opencc import OpenCC\n",
        "# cc = OpenCC('s2twp')\n",
        "# converted = cc.convert(sim)\n",
        "# converted"
      ],
      "execution_count": null,
      "outputs": []
    },
    {
      "cell_type": "code",
      "metadata": {
        "id": "eBtNKGvwvjSP"
      },
      "source": [
        "import os\n",
        "import jieba\n",
        "from urllib.request import urlretrieve\n",
        "if not os.path.exists(\"dict.txt.big\"):\n",
        "  url = \"https://github.com/fxsjy/jieba/raw/master/extra_dict/dict.txt.big\"\n",
        "  urlretrieve(url, \"dict.txt.big\")\n",
        "jieba.set_dictionary('dict.txt.big')#分析前須先載入\n",
        "jieba.load_userdict(\"user_dict.txt\")#須先載入\n",
        "with open(\"a.txt\", \"r\", encoding=\"utf-8\") as f:\n",
        "  news = f.read()\n",
        "\" \".join(jieba.cut(news))"
      ],
      "execution_count": null,
      "outputs": []
    },
    {
      "cell_type": "code",
      "metadata": {
        "id": "GQ_DCU8QRQvq",
        "outputId": "dafa9d6e-03ea-4995-82cd-ff732f37ef6f",
        "colab": {
          "base_uri": "https://localhost:8080/",
          "height": 357
        }
      },
      "source": [
        "import jieba.analyse\n",
        "jieba.analyse.extract_tags(news)"
      ],
      "execution_count": null,
      "outputs": [
        {
          "output_type": "execute_result",
          "data": {
            "text/plain": [
              "['川普',\n",
              " '結果',\n",
              " '檢測',\n",
              " '陽性',\n",
              " '醫院',\n",
              " '快篩',\n",
              " '總統',\n",
              " '離開',\n",
              " '報導',\n",
              " '他們',\n",
              " '晚間',\n",
              " '新聞',\n",
              " '受訪',\n",
              " '對外',\n",
              " '根據',\n",
              " '白宮',\n",
              " '篩檢',\n",
              " '因為',\n",
              " '競選',\n",
              " '提皮恩']"
            ]
          },
          "metadata": {
            "tags": []
          },
          "execution_count": 15
        }
      ]
    }
  ]
}