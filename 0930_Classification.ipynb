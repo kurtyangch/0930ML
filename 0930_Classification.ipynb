{
  "nbformat": 4,
  "nbformat_minor": 0,
  "metadata": {
    "colab": {
      "name": "0930_Classification.ipynb",
      "provenance": [],
      "authorship_tag": "ABX9TyMSTyN42Go86lFAR60IQ37e",
      "include_colab_link": true
    },
    "kernelspec": {
      "name": "python3",
      "display_name": "Python 3"
    }
  },
  "cells": [
    {
      "cell_type": "markdown",
      "metadata": {
        "id": "view-in-github",
        "colab_type": "text"
      },
      "source": [
        "<a href=\"https://colab.research.google.com/github/kurtyangch/Machine_Learning_from0930/blob/master/0930_Classification.ipynb\" target=\"_parent\"><img src=\"https://colab.research.google.com/assets/colab-badge.svg\" alt=\"Open In Colab\"/></a>"
      ]
    },
    {
      "cell_type": "code",
      "metadata": {
        "id": "bcX9YVjde-DK"
      },
      "source": [
        "import pandas as pd\n",
        "from sklearn.datasets import load_iris \n",
        "iris=load_iris()\n",
        "# 函式庫modin處理巨量資料\n",
        "# 拿到資料先處理成表格\n",
        "df=pd.DataFrame(iris[\"data\"], columns=iris[\"feature_names\"])\n",
        "df[\"target\"] = iris[\"target\"]#把答案加到表格\n",
        "df"
      ],
      "execution_count": null,
      "outputs": []
    },
    {
      "cell_type": "code",
      "metadata": {
        "id": "SGwxLHnNi1Yk"
      },
      "source": [
        "# 預處理: pandas/DataFrame\n",
        "# 開始機器學習: numpy/np.array\n",
        "import numpy as np\n",
        "from sklearn.model_selection import train_test_split\n",
        "# x = input, y = output/x去掉答案後的資料 y是答案\n",
        "# 分成兩份是為了驗證參數,驗證參數選的好不好\n",
        "x, y =df.drop([\"target\"], axis=1), df[\"target\"]\n",
        "# 把x , y轉成 np.array形式 把資料跟答案轉換形式\n",
        "x, y = np.array(x), np.array(y)\n",
        "x_train, x_test,y_train, y_test = train_test_split(x, y, test_size=0.1, random_state=0)#隨機切 random_state固定切的參數"
      ],
      "execution_count": null,
      "outputs": []
    },
    {
      "cell_type": "code",
      "metadata": {
        "id": "8jDc6E5OmV8D",
        "outputId": "11555941-8efd-49c7-ef0f-4e6305006dc6",
        "colab": {
          "base_uri": "https://localhost:8080/",
          "height": 120
        }
      },
      "source": [
        "#機器學習SOP\n",
        "from sklearn.tree import DecisionTreeClassifier\n",
        "clf= DecisionTreeClassifier() # clf = classifier 創造方法還沒學\n",
        "clf.fit(x_train, y_train) #學習資料"
      ],
      "execution_count": null,
      "outputs": [
        {
          "output_type": "execute_result",
          "data": {
            "text/plain": [
              "DecisionTreeClassifier(ccp_alpha=0.0, class_weight=None, criterion='gini',\n",
              "                       max_depth=None, max_features=None, max_leaf_nodes=None,\n",
              "                       min_impurity_decrease=0.0, min_impurity_split=None,\n",
              "                       min_samples_leaf=1, min_samples_split=2,\n",
              "                       min_weight_fraction_leaf=0.0, presort='deprecated',\n",
              "                       random_state=None, splitter='best')"
            ]
          },
          "metadata": {
            "tags": []
          },
          "execution_count": 9
        }
      ]
    },
    {
      "cell_type": "code",
      "metadata": {
        "id": "LuTmi1rLq-G2"
      },
      "source": [
        "# 決策樹適合用畫圖軟體graphviz\n",
        "import graphviz\n",
        "from sklearn.tree import export_graphviz\n",
        "# 把參數帶入export\n",
        "g = export_graphviz(clf, \n",
        "           feature_names=iris[\"feature_names\"],\n",
        "           class_names=iris[\"target_names\"],\n",
        "           filled=True) # 決策樹, feature_names特徵名, class_names是答案的欄位 filled=True把表格上色\n",
        "graphviz.Source(g)\n",
        "\n",
        "# 圖中的class = 這個群體最多的東西 ,會劃分到不能劃分為止"
      ],
      "execution_count": null,
      "outputs": []
    },
    {
      "cell_type": "code",
      "metadata": {
        "id": "ovzPsD3CszHX",
        "outputId": "6984f135-5f4e-4eb5-e645-95c9aab62679",
        "colab": {
          "base_uri": "https://localhost:8080/",
          "height": 34
        }
      },
      "source": [
        "from sklearn.metrics import accuracy_score #正確率\n",
        "pre = clf.predict(x_test) #預測測試資料\n",
        "accuracy_score(pre, y_test)"
      ],
      "execution_count": null,
      "outputs": [
        {
          "output_type": "execute_result",
          "data": {
            "text/plain": [
              "1.0"
            ]
          },
          "metadata": {
            "tags": []
          },
          "execution_count": 11
        }
      ]
    },
    {
      "cell_type": "code",
      "metadata": {
        "id": "p2Izuxjm8fSM",
        "outputId": "1acb64c7-9208-4492-ff5c-b3cd6211533e",
        "colab": {
          "base_uri": "https://localhost:8080/",
          "height": 140
        }
      },
      "source": [
        "from sklearn.metrics import confusion_matrix\n",
        "pd.DataFrame(confusion_matrix(y_test, pre))"
      ],
      "execution_count": null,
      "outputs": [
        {
          "output_type": "execute_result",
          "data": {
            "text/html": [
              "<div>\n",
              "<style scoped>\n",
              "    .dataframe tbody tr th:only-of-type {\n",
              "        vertical-align: middle;\n",
              "    }\n",
              "\n",
              "    .dataframe tbody tr th {\n",
              "        vertical-align: top;\n",
              "    }\n",
              "\n",
              "    .dataframe thead th {\n",
              "        text-align: right;\n",
              "    }\n",
              "</style>\n",
              "<table border=\"1\" class=\"dataframe\">\n",
              "  <thead>\n",
              "    <tr style=\"text-align: right;\">\n",
              "      <th></th>\n",
              "      <th>0</th>\n",
              "      <th>1</th>\n",
              "      <th>2</th>\n",
              "    </tr>\n",
              "  </thead>\n",
              "  <tbody>\n",
              "    <tr>\n",
              "      <th>0</th>\n",
              "      <td>3</td>\n",
              "      <td>0</td>\n",
              "      <td>0</td>\n",
              "    </tr>\n",
              "    <tr>\n",
              "      <th>1</th>\n",
              "      <td>0</td>\n",
              "      <td>8</td>\n",
              "      <td>0</td>\n",
              "    </tr>\n",
              "    <tr>\n",
              "      <th>2</th>\n",
              "      <td>0</td>\n",
              "      <td>0</td>\n",
              "      <td>4</td>\n",
              "    </tr>\n",
              "  </tbody>\n",
              "</table>\n",
              "</div>"
            ],
            "text/plain": [
              "   0  1  2\n",
              "0  3  0  0\n",
              "1  0  8  0\n",
              "2  0  0  4"
            ]
          },
          "metadata": {
            "tags": []
          },
          "execution_count": 14
        }
      ]
    }
  ]
}